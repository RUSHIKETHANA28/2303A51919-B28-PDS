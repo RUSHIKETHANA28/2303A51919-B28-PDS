{
  "nbformat": 4,
  "nbformat_minor": 0,
  "metadata": {
    "colab": {
      "provenance": [],
      "authorship_tag": "ABX9TyPTLcyqDm2SyHQNSMMXIAM2",
      "include_colab_link": true
    },
    "kernelspec": {
      "name": "python3",
      "display_name": "Python 3"
    },
    "language_info": {
      "name": "python"
    }
  },
  "cells": [
    {
      "cell_type": "markdown",
      "metadata": {
        "id": "view-in-github",
        "colab_type": "text"
      },
      "source": [
        "<a href=\"https://colab.research.google.com/github/RUSHIKETHANA28/2303A51919-B28-PDS/blob/main/Lab3.ipynb\" target=\"_parent\"><img src=\"https://colab.research.google.com/assets/colab-badge.svg\" alt=\"Open In Colab\"/></a>"
      ]
    },
    {
      "cell_type": "code",
      "execution_count": 1,
      "metadata": {
        "colab": {
          "base_uri": "https://localhost:8080/"
        },
        "id": "hrBHsjNh46aN",
        "outputId": "75f016e5-7022-4b89-ca38-669d5eb8eddc"
      },
      "outputs": [
        {
          "output_type": "stream",
          "name": "stdout",
          "text": [
            "Test Scores (4x4 Matrix):\n",
            " [[88 78 64 92]\n",
            " [57 70 88 68]\n",
            " [72 60 60 73]\n",
            " [85 89 73 52]]\n",
            "\n",
            "Row-wise Mean: [80.5  70.75 66.25 74.75]\n",
            "Column-wise Mean: [75.5  74.25 71.25 71.25]\n",
            "\n",
            "Standard Deviation: 12.214073593605043\n",
            "Variance: 149.18359375\n",
            "\n",
            "Global Minimum: 52 at index (np.int64(3), np.int64(3))\n",
            "Global Maximum: 92 at index (np.int64(0), np.int64(3))\n"
          ]
        }
      ],
      "source": [
        "import numpy as np\n",
        "\n",
        "# Generate a 4x4 array of test scores (random integers between 50 and 100)\n",
        "np.random.seed(42)  # to keep results reproducible\n",
        "scores = np.random.randint(50, 101, size=(4, 4))\n",
        "print(\"Test Scores (4x4 Matrix):\\n\", scores)\n",
        "\n",
        "# Row-wise mean\n",
        "row_mean = np.mean(scores, axis=1)\n",
        "print(\"\\nRow-wise Mean:\", row_mean)\n",
        "\n",
        "# Column-wise mean\n",
        "col_mean = np.mean(scores, axis=0)\n",
        "print(\"Column-wise Mean:\", col_mean)\n",
        "\n",
        "# Standard deviation and variance (global)\n",
        "std_dev = np.std(scores)\n",
        "variance = np.var(scores)\n",
        "print(\"\\nStandard Deviation:\", std_dev)\n",
        "print(\"Variance:\", variance)\n",
        "\n",
        "# Global min, max and their indices\n",
        "global_min = np.min(scores)\n",
        "global_max = np.max(scores)\n",
        "min_index = np.unravel_index(np.argmin(scores), scores.shape)\n",
        "max_index = np.unravel_index(np.argmax(scores), scores.shape)\n",
        "\n",
        "print(\"\\nGlobal Minimum:\", global_min, \"at index\", min_index)\n",
        "print(\"Global Maximum:\", global_max, \"at index\", max_index)\n"
      ]
    },
    {
      "cell_type": "code",
      "source": [
        "import numpy as np\n",
        "import matplotlib.pyplot as plt\n",
        "\n",
        "# 1. Create a 3D NumPy array (3x3x3) to simulate RGB image data\n",
        "np.random.seed(42)  # reproducibility\n",
        "image = np.random.randint(0, 256, size=(3, 3, 3), dtype=np.uint8)\n",
        "print(\"Original Image Matrix (3x3x3):\\n\", image)\n",
        "\n",
        "# 2. Extract Red, Green, Blue channels\n",
        "red_channel = image[:, :, 0]\n",
        "green_channel = image[:, :, 1]\n",
        "blue_channel = image[:, :, 2]\n",
        "\n",
        "print(\"\\nRed Channel:\\n\", red_channel)\n",
        "print(\"\\nGreen Channel:\\n\", green_channel)\n",
        "print(\"\\nBlue Channel:\\n\", blue_channel)\n",
        "\n",
        "# 3. Compute average pixel intensity per channel\n",
        "avg_red = np.mean(red_channel)\n",
        "avg_green = np.mean(green_channel)\n",
        "avg_blue = np.mean(blue_channel)\n",
        "\n",
        "print(\"\\nAverage Intensity - Red:\", avg_red)\n",
        "print(\"Average Intensity - Green:\", avg_green)\n",
        "print(\"Average Intensity - Blue:\", avg_blue)\n",
        "\n",
        "# 4. Brighten image by adding scalar (clip at 255)\n",
        "brightened_image = np.clip(image + 50, 0, 255)\n",
        "print(\"\\nBrightened Image Matrix:\\n\", brightened_image)\n",
        "\n",
        "# 5. Visualization (each channel + original + brightened)\n",
        "fig, axes = plt.subplots(1, 5, figsize=(15, 3))\n",
        "\n",
        "axes[0].imshow(image)  # Original image\n",
        "axes[0].set_title(\"Original\")\n",
        "\n",
        "axes[1].imshow(red_channel, cmap='Reds')\n",
        "axes[1].set_title(\"Red Channel\")\n",
        "\n",
        "axes[2].imshow(green_channel, cmap='Greens')\n",
        "axes[2].set_title(\"Green Channel\")\n",
        "\n",
        "axes[3].imshow(blue_channel, cmap='Blues')\n",
        "axes[3].set_title(\"Blue Channel\")\n",
        "\n",
        "axes[4].imshow(brightened_image)\n",
        "axes[4].set_title(\"Brightened\")\n",
        "\n",
        "for ax in axes:\n",
        "    ax.axis(\"off\")\n",
        "\n",
        "    plt.show()\n",
        ""
      ],
      "metadata": {
        "colab": {
          "base_uri": "https://localhost:8080/",
          "height": 1000
        },
        "id": "0qXHhSXx8Dhg",
        "outputId": "47b90fb0-05bf-4503-a296-c9494c6bb377"
      },
      "execution_count": 2,
      "outputs": [
        {
          "output_type": "stream",
          "name": "stdout",
          "text": [
            "Original Image Matrix (3x3x3):\n",
            " [[[102 220 225]\n",
            "  [ 95 179  61]\n",
            "  [234 203  92]]\n",
            "\n",
            " [[  3  98 243]\n",
            "  [ 14 149 245]\n",
            "  [ 46 106 244]]\n",
            "\n",
            " [[ 99 187  71]\n",
            "  [212 153 199]\n",
            "  [188 174  65]]]\n",
            "\n",
            "Red Channel:\n",
            " [[102  95 234]\n",
            " [  3  14  46]\n",
            " [ 99 212 188]]\n",
            "\n",
            "Green Channel:\n",
            " [[220 179 203]\n",
            " [ 98 149 106]\n",
            " [187 153 174]]\n",
            "\n",
            "Blue Channel:\n",
            " [[225  61  92]\n",
            " [243 245 244]\n",
            " [ 71 199  65]]\n",
            "\n",
            "Average Intensity - Red: 110.33333333333333\n",
            "Average Intensity - Green: 163.22222222222223\n",
            "Average Intensity - Blue: 160.55555555555554\n",
            "\n",
            "Brightened Image Matrix:\n",
            " [[[152  14  19]\n",
            "  [145 229 111]\n",
            "  [ 28 253 142]]\n",
            "\n",
            " [[ 53 148  37]\n",
            "  [ 64 199  39]\n",
            "  [ 96 156  38]]\n",
            "\n",
            " [[149 237 121]\n",
            "  [  6 203 249]\n",
            "  [238 224 115]]]\n"
          ]
        },
        {
          "output_type": "display_data",
          "data": {
            "text/plain": [
              "<Figure size 1500x300 with 5 Axes>"
            ],
            "image/png": "[encoded data removed]"
          },
          "metadata": {}
        }
      ]
    }
  ]
}