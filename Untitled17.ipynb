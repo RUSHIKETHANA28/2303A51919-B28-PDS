{
  "nbformat": 4,
  "nbformat_minor": 0,
  "metadata": {
    "colab": {
      "provenance": [],
      "authorship_tag": "ABX9TyMh995ac6Fh65wzYXGS6ctj",
      "include_colab_link": true
    },
    "kernelspec": {
      "name": "python3",
      "display_name": "Python 3"
    },
    "language_info": {
      "name": "python"
    }
  },
  "cells": [
    {
      "cell_type": "markdown",
      "metadata": {
        "id": "view-in-github",
        "colab_type": "text"
      },
      "source": [
        "<a href=\"https://colab.research.google.com/github/RUSHIKETHANA28/2303A51919-B28-PDS/blob/main/Untitled17.ipynb\" target=\"_parent\"><img src=\"https://colab.research.google.com/assets/colab-badge.svg\" alt=\"Open In Colab\"/></a>"
      ]
    },
    {
      "cell_type": "code",
      "source": [
        "import pandas as pd\n",
        "\n",
        "# Step 1: Create a sample hospital dataset with patient ages\n",
        "data = {\n",
        "    \"Patient_ID\": range(1, 16),\n",
        "        \"Age\": [25, 30, 45, -5, 150, 60, 75, 34, 28, 122, 80, 40, 15, 200, 50]\n",
        "        }\n",
        "\n",
        "df = pd.DataFrame(data)\n",
        "\n",
        "print(\"---- Original Dataset ----\")\n",
        "print(df)\n",
        "\n",
        "# Step 2: Detect Outliers\n",
        "# Outliers are values < 0 or > 120\n",
        "outliers = df[(df[\"Age\"] < 0) | (df[\"Age\"] > 120)]\n",
        "print(\"\\n---- Detected Outliers ----\")\n",
        "print(outliers)\n",
        "\n",
        "# Step 3: Remove Outliers\n",
        "cleaned_df = df[(df[\"Age\"] >= 0) & (df[\"Age\"] <= 120)]\n",
        "\n",
        "print(\"\\n---- Cleaned Dataset ----\")\n",
        "print(cleaned_df)"
      ],
      "metadata": {
        "colab": {
          "base_uri": "https://localhost:8080/"
        },
        "id": "2pQeFTiEGOS2",
        "outputId": "ac60d52f-a267-4af5-b08e-84a15eadb02f"
      },
      "execution_count": 3,
      "outputs": [
        {
          "output_type": "stream",
          "name": "stdout",
          "text": [
            "---- Original Dataset ----\n",
            "    Patient_ID  Age\n",
            "0            1   25\n",
            "1            2   30\n",
            "2            3   45\n",
            "3            4   -5\n",
            "4            5  150\n",
            "5            6   60\n",
            "6            7   75\n",
            "7            8   34\n",
            "8            9   28\n",
            "9           10  122\n",
            "10          11   80\n",
            "11          12   40\n",
            "12          13   15\n",
            "13          14  200\n",
            "14          15   50\n",
            "\n",
            "---- Detected Outliers ----\n",
            "    Patient_ID  Age\n",
            "3            4   -5\n",
            "4            5  150\n",
            "9           10  122\n",
            "13          14  200\n",
            "\n",
            "---- Cleaned Dataset ----\n",
            "    Patient_ID  Age\n",
            "0            1   25\n",
            "1            2   30\n",
            "2            3   45\n",
            "5            6   60\n",
            "6            7   75\n",
            "7            8   34\n",
            "8            9   28\n",
            "10          11   80\n",
            "11          12   40\n",
            "12          13   15\n",
            "14          15   50\n"
          ]
        }
      ]
    },
    {
      "cell_type": "code",
      "source": [
        "import pandas as pd\n",
        "import numpy as np\n",
        "from sklearn.preprocessing import MinMaxScaler, StandardScaler\n",
        "\n",
        "# Step 1: Create a sample banking dataset (Customer Incomes in ₹)\n",
        "data = {\n",
        "    \"Customer_ID\": range(1, 8),\n",
        "        \"Income\": [25000, 30000, 40000, 50000, 60000, 80000, 120000]\n",
        "        }\n",
        "df = pd.DataFrame(data)\n",
        "\n",
        "print(\"---- Original Dataset ----\")\n",
        "print(df)\n",
        "\n",
        "# Step 2: Apply Min-Max Normalization (scaled between 0 and 1)\n",
        "min_max_scaler = MinMaxScaler()\n",
        "df[\"Income_Normalized\"] = min_max_scaler.fit_transform(df[[\"Income\"]])\n",
        "\n",
        "# Step 3: Apply Standardization (Z-score)\n",
        "standard_scaler = StandardScaler()\n",
        "df[\"Income_Standardized\"] = standard_scaler.fit_transform(df[[\"Income\"]])\n",
        "\n",
        "print(\"\\n---- Scaled Dataset ----\")\n",
        "print(df)"
      ],
      "metadata": {
        "colab": {
          "base_uri": "https://localhost:8080/"
        },
        "id": "1Gkfj2iuRuSg",
        "outputId": "dbdcd2fe-cf5a-4c9a-e735-a6739d36b198"
      },
      "execution_count": 5,
      "outputs": [
        {
          "output_type": "stream",
          "name": "stdout",
          "text": [
            "---- Original Dataset ----\n",
            "   Customer_ID  Income\n",
            "0            1   25000\n",
            "1            2   30000\n",
            "2            3   40000\n",
            "3            4   50000\n",
            "4            5   60000\n",
            "5            6   80000\n",
            "6            7  120000\n",
            "\n",
            "---- Scaled Dataset ----\n",
            "   Customer_ID  Income  Income_Normalized  Income_Standardized\n",
            "0            1   25000           0.000000            -1.070636\n",
            "1            2   30000           0.052632            -0.907713\n",
            "2            3   40000           0.157895            -0.581868\n",
            "3            4   50000           0.263158            -0.256022\n",
            "4            5   60000           0.368421             0.069824\n",
            "5            6   80000           0.578947             0.721516\n",
            "6            7  120000           1.000000             2.024899\n"
          ]
        }
      ]
    }
  ]
}